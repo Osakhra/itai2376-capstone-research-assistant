{
  "cells": [
    {
      "cell_type": "code",
      "execution_count": 10,
      "metadata": {
        "colab": {
          "base_uri": "https://localhost:8080/"
        },
        "id": "6nHsvWX3_txf",
        "outputId": "58a4e5ed-812d-4853-c922-1851f2e41e76"
      },
      "outputs": [
        {
          "name": "stdout",
          "output_type": "stream",
          "text": [
            "Requirement already satisfied: openai in /usr/local/lib/python3.11/dist-packages (1.98.0)\n",
            "Requirement already satisfied: ddgs in /usr/local/lib/python3.11/dist-packages (9.5.1)\n",
            "Requirement already satisfied: anyio<5,>=3.5.0 in /usr/local/lib/python3.11/dist-packages (from openai) (4.9.0)\n",
            "Requirement already satisfied: distro<2,>=1.7.0 in /usr/local/lib/python3.11/dist-packages (from openai) (1.9.0)\n",
            "Requirement already satisfied: httpx<1,>=0.23.0 in /usr/local/lib/python3.11/dist-packages (from openai) (0.28.1)\n",
            "Requirement already satisfied: jiter<1,>=0.4.0 in /usr/local/lib/python3.11/dist-packages (from openai) (0.10.0)\n",
            "Requirement already satisfied: pydantic<3,>=1.9.0 in /usr/local/lib/python3.11/dist-packages (from openai) (2.11.7)\n",
            "Requirement already satisfied: sniffio in /usr/local/lib/python3.11/dist-packages (from openai) (1.3.1)\n",
            "Requirement already satisfied: tqdm>4 in /usr/local/lib/python3.11/dist-packages (from openai) (4.67.1)\n",
            "Requirement already satisfied: typing-extensions<5,>=4.11 in /usr/local/lib/python3.11/dist-packages (from openai) (4.14.1)\n",
            "Requirement already satisfied: click>=8.1.8 in /usr/local/lib/python3.11/dist-packages (from ddgs) (8.2.1)\n",
            "Requirement already satisfied: primp>=0.15.0 in /usr/local/lib/python3.11/dist-packages (from ddgs) (0.15.0)\n",
            "Requirement already satisfied: lxml>=5.3.0 in /usr/local/lib/python3.11/dist-packages (from ddgs) (5.4.0)\n",
            "Requirement already satisfied: idna>=2.8 in /usr/local/lib/python3.11/dist-packages (from anyio<5,>=3.5.0->openai) (3.10)\n",
            "Requirement already satisfied: certifi in /usr/local/lib/python3.11/dist-packages (from httpx<1,>=0.23.0->openai) (2025.7.14)\n",
            "Requirement already satisfied: httpcore==1.* in /usr/local/lib/python3.11/dist-packages (from httpx<1,>=0.23.0->openai) (1.0.9)\n",
            "Requirement already satisfied: h11>=0.16 in /usr/local/lib/python3.11/dist-packages (from httpcore==1.*->httpx<1,>=0.23.0->openai) (0.16.0)\n",
            "Requirement already satisfied: annotated-types>=0.6.0 in /usr/local/lib/python3.11/dist-packages (from pydantic<3,>=1.9.0->openai) (0.7.0)\n",
            "Requirement already satisfied: pydantic-core==2.33.2 in /usr/local/lib/python3.11/dist-packages (from pydantic<3,>=1.9.0->openai) (2.33.2)\n",
            "Requirement already satisfied: typing-inspection>=0.4.0 in /usr/local/lib/python3.11/dist-packages (from pydantic<3,>=1.9.0->openai) (0.4.1)\n"
          ]
        }
      ],
      "source": [
        "# Install the required Python packages for OpenAI (summarization) and ddgs (DuckDuckGo search).\n",
        "\n",
        "!pip install --upgrade openai ddgs\n"
      ]
    },
    {
      "cell_type": "code",
      "execution_count": null,
      "metadata": {
        "id": "geVCcGW0_wzm"
      },
      "outputs": [],
      "source": [
        "# Set my OpenAI API key as an environment variable so the OpenAI library can authenticate my requests.\n",
        "# This keeps my key hidden from the code and lets me use the API securely.\n",
        "\n",
        "import os\n",
        "os.environ[\"OPENAI_API_KEY\"] = \"sk-PASTE-YOUR-OPENAI-KEY-HERE\"\n"
      ]
    },
    {
      "cell_type": "code",
      "execution_count": 13,
      "metadata": {
        "id": "qeDxHoQn_2VY"
      },
      "outputs": [],
      "source": [
        "# Importing required libraries and initialize the OpenAI client for API calls.\n",
        "\n",
        "import openai\n",
        "from ddgs import DDGS\n",
        "\n",
        "client = openai.OpenAI()\n"
      ]
    },
    {
      "cell_type": "code",
      "execution_count": 14,
      "metadata": {
        "id": "GMDFltxD_6_B"
      },
      "outputs": [],
      "source": [
        "# Define helper functions for searching DuckDuckGo, summarizing text with GPT, and formatting citations.\n",
        "# This keeps my notebook organized and reusable.\n",
        "\n",
        "def search_duckduckgo(query, max_results=3):\n",
        "    results = []\n",
        "    with DDGS() as ddgs:\n",
        "        for r in ddgs.text(query, max_results=max_results):\n",
        "            results.append({\n",
        "                'name': r.get('title', 'No Title'),\n",
        "                'url': r.get('href', 'No URL'),\n",
        "                'snippet': r.get('body', 'No snippet')\n",
        "            })\n",
        "    return results\n",
        "\n",
        "def summarize_text(text, model=\"gpt-3.5-turbo\"):\n",
        "    response = client.chat.completions.create(\n",
        "        model=model,\n",
        "        messages=[\n",
        "            {\"role\": \"system\", \"content\": \"Summarize this academic content briefly in 3-5 sentences.\"},\n",
        "            {\"role\": \"user\", \"content\": text}\n",
        "        ]\n",
        "    )\n",
        "    return response.choices[0].message.content.strip()\n",
        "\n",
        "def format_citation(name, url):\n",
        "    return f\"{name}. Retrieved from {url}\"\n"
      ]
    },
    {
      "cell_type": "code",
      "execution_count": 16,
      "metadata": {
        "colab": {
          "base_uri": "https://localhost:8080/"
        },
        "id": "sLvJlOVFAXfo",
        "outputId": "790a7c6b-445e-4c0a-e187-7823c30d3ec5"
      },
      "outputs": [
        {
          "name": "stdout",
          "output_type": "stream",
          "text": [
            "Source 1: Reinforcement Learning in Robotics: Applications and Real ... (https://www.mdpi.com/2218-6581/2/3/122)\n",
            "Summary: This academic content examines the current advancements in reinforcement learning within the domain of robotics, focusing on algorithms and policy representations. It identifies various challenges related to policy representation specifically within the field of robotics. The research provides an overview of the technological landscape at the intersection of reinforcement learning and robotics.\n",
            "Citation: Reinforcement Learning in Robotics: Applications and Real .... Retrieved from https://www.mdpi.com/2218-6581/2/3/122\n",
            "\n",
            "Source 2: 10 Real-Life Applications of Reinforcement Learning - Neptune (https://neptune.ai/blog/reinforcement-learning-applications)\n",
            "Summary: In industrial settings, learning-based robots are utilized for performing tasks due to their superior efficiency compared to humans. Moreover, these robots can undertake tasks that might be perilous for human workers, enhancing safety in the workplace. An instance of this is the deployment of AI agents by Deepmind to cool Google Data Centers, demonstrating the advanced applications and capabilities of robotic systems in industry.\n",
            "Citation: 10 Real-Life Applications of Reinforcement Learning - Neptune. Retrieved from https://neptune.ai/blog/reinforcement-learning-applications\n",
            "\n",
            "Source 3: Deep Reinforcement Learning for Robotics: A Survey of Real ... Reinforcement Learning in Robotics - GeeksforGeeks Reinforcement learning in robotic applications: a ... - Springer Reinforcement Learning in Robotics: Innovations and Real ... Reinforcement Learning in Robotics : Applications and Real-World ... - … Reinforcement learning in robotic applications : a comprehensive survey Deep Reinforcement Learning for Robotics : A Survey of Real-World Suc… 10 Real-Life Applications of Reinforcement Learning - Neptune Reinforcement learning for robot research: A comprehensive review and Reinforcement learning in robotic applications : a comprehensive survey Reinforcement learning for robot research: A comprehensive ... (https://arxiv.org/abs/2408.03539)\n",
            "Summary: This article discusses the use of Deep Reinforcement Learning (DRL) in robotics, focusing on real-world successes in developing key robotic competencies. Reinforcement Learning (RL) has become a transformative approach, allowing robots to learn complex behaviors through trial and error interactions with their environment instead of relying solely on pre-programmed instructions or explicit human guidance. Recent advancements in reinforcement algorithms applied in robotic science have led to successful applications on various robotic platforms, such as air-based, under-water, and land-based systems, showing promise for solving complex tasks and improving overall robotic performance.\n",
            "Citation: Deep Reinforcement Learning for Robotics: A Survey of Real ... Reinforcement Learning in Robotics - GeeksforGeeks Reinforcement learning in robotic applications: a ... - Springer Reinforcement Learning in Robotics: Innovations and Real ... Reinforcement Learning in Robotics : Applications and Real-World ... - … Reinforcement learning in robotic applications : a comprehensive survey Deep Reinforcement Learning for Robotics : A Survey of Real-World Suc… 10 Real-Life Applications of Reinforcement Learning - Neptune Reinforcement learning for robot research: A comprehensive review and Reinforcement learning in robotic applications : a comprehensive survey Reinforcement learning for robot research: A comprehensive .... Retrieved from https://arxiv.org/abs/2408.03539\n",
            "\n"
          ]
        }
      ],
      "source": [
        "# Main workflow: search for a topic, summarize top sources, and print out research summaries and citations.\n",
        "\n",
        "topic = \"Applications of reinforcement learning in robotics\"\n",
        "sources = search_duckduckgo(topic, max_results=3)\n",
        "\n",
        "results = []\n",
        "for source in sources:\n",
        "    summary = summarize_text(source['snippet'])\n",
        "    citation = format_citation(source['name'], source['url'])\n",
        "    results.append({'name': source['name'], 'url': source['url'], 'summary': summary, 'citation': citation})\n",
        "\n",
        "for i, res in enumerate(results):\n",
        "    print(f\"Source {i+1}: {res['name']} ({res['url']})\")\n",
        "    print(f\"Summary: {res['summary']}\\nCitation: {res['citation']}\\n\")\n"
      ]
    },
    {
      "cell_type": "markdown",
      "metadata": {
        "id": "oJ3FNGzPBMYk"
      },
      "source": [
        "With these steps, my AI research assistant automatically finds, summarizes, and cites credible sources for any topic.\n",
        "\n",
        "This saves me time and ensures my research is organized and ready for academic use.\n",
        "\n"
      ]
    },
    {
      "cell_type": "code",
      "execution_count": 17,
      "metadata": {
        "id": "7-F4digCDB-j"
      },
      "outputs": [],
      "source": [
        "def validate_input(text):\n",
        "    # Add any terms you want to block as inappropriate for academic search\n",
        "    blocked_words = [\"kill\", \"weapon\", \"hate\", \"violence\", \"illegal\", \"bomb\"]\n",
        "    for word in blocked_words:\n",
        "        if word in text.lower():\n",
        "            raise ValueError(\"This topic contains inappropriate or restricted terms. Please enter a valid academic research topic.\")\n"
      ]
    },
    {
      "cell_type": "code",
      "execution_count": 19,
      "metadata": {
        "colab": {
          "base_uri": "https://localhost:8080/"
        },
        "id": "3wSL-5HvDGjP",
        "outputId": "17f79e51-4bc6-4e24-b139-7612984b0ff6"
      },
      "outputs": [
        {
          "name": "stdout",
          "output_type": "stream",
          "text": [
            "Source 1: Sign in to your account - myapplications.microsoft.com (https://myapplications.microsoft.com/?endUserCollections)\n",
            "Summary: Users can access and manage their Microsoft applications using the My Apps service. This allows for centralized management of various Microsoft applications and services, providing a convenient way to sign in and oversee multiple applications from one location. By signing in to My Apps, users can streamline their access to various Microsoft tools and services through a single platform.\n",
            "Citation: Sign in to your account - myapplications.microsoft.com. Retrieved from https://myapplications.microsoft.com/?endUserCollections\n",
            "\n",
            "Is this summary helpful? (y/n): y\n",
            "Source 2: Sign in to your account - myapplications.microsoft.com (https://myapplications.microsoft.com/https:/myapplications.microsoft.com/)\n",
            "Summary: To access and manage your Microsoft applications securely and conveniently, sign in to the My Apps portal. This portal allows users to easily navigate through and control their various Microsoft apps from one central location. By logging in to the My Apps portal, users can efficiently access and modify their Microsoft applications with enhanced security measures in place.\n",
            "Citation: Sign in to your account - myapplications.microsoft.com. Retrieved from https://myapplications.microsoft.com/https:/myapplications.microsoft.com/\n",
            "\n",
            "Is this summary helpful? (y/n): y\n",
            "Source 3: Sign in to your account - myapplications.microsoft.com (https://myapplications.microsoft.com/?tenantid=6d1a74a0-a631-404d-b2e0-117a10bbb082)\n",
            "Summary: \"My Apps\" is a platform that allows users to securely access and manage all Microsoft applications and services in one central location. Users can log in and access a variety of Microsoft tools, such as email, calendars, and documents, while ensuring the security of their information. With a single sign-on feature, users can easily navigate between various Microsoft apps and services without the need to repeatedly enter login credentials.\n",
            "Citation: Sign in to your account - myapplications.microsoft.com. Retrieved from https://myapplications.microsoft.com/?tenantid=6d1a74a0-a631-404d-b2e0-117a10bbb082\n",
            "\n",
            "Is this summary helpful? (y/n): y\n",
            "Source 4: Sign in to your account - myapplications.microsoft.com (https://myapplications.microsoft.com/sanjuan.edu)\n",
            "Summary: The text seems to refer to the terms of use, privacy policy, and use of cookies in the context of \"My Apps,\" likely a collection of mobile applications. This indicates that the user needs to agree to certain terms and conditions, acknowledge the privacy policy, and potentially allow the use of cookies when using these apps. The content could be related to user data collection, storage, and processing practices within the apps.\n",
            "Citation: Sign in to your account - myapplications.microsoft.com. Retrieved from https://myapplications.microsoft.com/sanjuan.edu\n",
            "\n",
            "Is this summary helpful? (y/n): n\n",
            "Fetching the next source...\n",
            "Source 5: Sign in to your account - myapplications.microsoft.com (https://myapplications.microsoft.com/?tenantId=cadhcs.onmicrosoft.com)\n",
            "Summary: The content is a warning message stating that the system is for official use by authorized users in the State of California. Users are informed that their activities on the system may be monitored or restricted. It also highlights that any unauthorized or improper use of the system is prohibited.\n",
            "Citation: Sign in to your account - myapplications.microsoft.com. Retrieved from https://myapplications.microsoft.com/?tenantId=cadhcs.onmicrosoft.com\n",
            "\n",
            "Is this summary helpful? (y/n): n\n",
            "Fetching the next source...\n"
          ]
        }
      ],
      "source": [
        "topic = \"Applications of reinforcement learning in robotics\"\n",
        "validate_input(topic)\n",
        "sources = search_duckduckgo(topic, max_results=5)  # Increase max_results for more fallback options\n",
        "\n",
        "results = []\n",
        "used_indices = set()\n",
        "\n",
        "for i, source in enumerate(sources):\n",
        "    summary = summarize_text(source['snippet'])\n",
        "    citation = format_citation(source['name'], source['url'])\n",
        "    print(f\"Source {i+1}: {source['name']} ({source['url']})\")\n",
        "    print(f\"Summary: {summary}\\nCitation: {citation}\\n\")\n",
        "\n",
        "    feedback = input(\"Is this summary helpful? (y/n): \").strip().lower()\n",
        "    if feedback == \"y\":\n",
        "        results.append({'name': source['name'], 'url': source['url'], 'summary': summary, 'citation': citation})\n",
        "    else:\n",
        "        print(\"Fetching the next source...\")\n",
        "    # Optional: Stop if you only want to keep one helpful summary per run\n",
        "    # if feedback == \"y\":\n",
        "    #     break\n",
        "\n",
        "# If no summary was found helpful, notify the user\n",
        "if not results:\n",
        "    print(\"No summaries were marked as helpful. Please try a different topic.\")\n"
      ]
    }
  ],
  "metadata": {
    "colab": {
      "provenance": []
    },
    "kernelspec": {
      "display_name": "Python 3",
      "name": "python3"
    },
    "language_info": {
      "name": "python"
    }
  },
  "nbformat": 4,
  "nbformat_minor": 0
}
